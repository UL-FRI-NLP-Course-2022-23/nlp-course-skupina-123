{
 "cells": [
  {
   "cell_type": "code",
   "execution_count": null,
   "metadata": {},
   "outputs": [],
   "source": [
    "# add your ners\n",
    "import ners.ner_flair as nf\n",
    "import ners.ner_spacy as nspcy"
   ]
  },
  {
   "cell_type": "markdown",
   "metadata": {},
   "source": [
    "dodaš svojo ner, najbulš da nardiš razred (glej ner_flair.py)\n",
    "v overall_score vneseš kot argument svoj ner: overall_scores(stanza=<tvoja stanza>)"
   ]
  },
  {
   "cell_type": "code",
   "execution_count": null,
   "metadata": {},
   "outputs": [],
   "source": [
    "from helpers.functions import overall_scores\n",
    "\n",
    "flair = nf.FlairNer()\n",
    "spacy = nspcy.SpacyNer()\n",
    "\n",
    "overall_scores(flair = flair)\n",
    "overall_scores(spacy = spacy)"
   ]
  }
 ],
 "metadata": {
  "kernelspec": {
   "display_name": "Python 3.10.9 64-bit",
   "language": "python",
   "name": "python3"
  },
  "language_info": {
   "codemirror_mode": {
    "name": "ipython",
    "version": 3
   },
   "file_extension": ".py",
   "mimetype": "text/x-python",
   "name": "python",
   "nbconvert_exporter": "python",
   "pygments_lexer": "ipython3",
   "version": "3.8.0"
  },
  "orig_nbformat": 4,
  "vscode": {
   "interpreter": {
    "hash": "b0fa6594d8f4cbf19f97940f81e996739fb7646882a419484c72d19e05852a7e"
   }
  }
 },
 "nbformat": 4,
 "nbformat_minor": 2
}
