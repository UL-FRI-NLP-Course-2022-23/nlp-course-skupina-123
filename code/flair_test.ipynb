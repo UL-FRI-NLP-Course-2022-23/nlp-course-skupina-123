{
 "cells": [
  {
   "cell_type": "code",
   "execution_count": 2,
   "metadata": {},
   "outputs": [
    {
     "name": "stderr",
     "output_type": "stream",
     "text": [
      "c:\\Users\\Uporabnik\\AppData\\Local\\Programs\\Python\\Python310\\lib\\site-packages\\tqdm\\auto.py:21: TqdmWarning: IProgress not found. Please update jupyter and ipywidgets. See https://ipywidgets.readthedocs.io/en/stable/user_install.html\n",
      "  from .autonotebook import tqdm as notebook_tqdm\n",
      "error loading _jsonnet (this is expected on Windows), treating C:\\Users\\UPORAB~1\\AppData\\Local\\Temp\\tmpv8ik3efe\\config.json as plain json\n",
      "Some weights of BertModel were not initialized from the model checkpoint at SpanBERT/spanbert-large-cased and are newly initialized: ['bert.pooler.dense.weight', 'bert.pooler.dense.bias']\n",
      "You should probably TRAIN this model on a down-stream task to be able to use it for predictions and inference.\n"
     ]
    }
   ],
   "source": [
    "# add your ners\n",
    "import ners.ner_flair as nf\n",
    "import ners.ner_spacy as nspcy\n",
    "import ners.ner_stanza as ns"
   ]
  },
  {
   "cell_type": "markdown",
   "metadata": {},
   "source": [
    "dodaš svojo ner, najbulš da nardiš razred (glej ner_flair.py)\n",
    "v overall_score vneseš kot argument svoj ner: overall_scores(stanza=<tvoja stanza>)"
   ]
  },
  {
   "cell_type": "code",
   "execution_count": 7,
   "metadata": {},
   "outputs": [
    {
     "name": "stdout",
     "output_type": "stream",
     "text": [
      "2023-04-28 00:15:13,523 SequenceTagger predicts: Dictionary with 20 tags: <unk>, O, S-ORG, S-MISC, B-PER, E-PER, S-LOC, B-ORG, E-ORG, I-PER, S-PER, B-MISC, I-MISC, E-MISC, I-ORG, B-LOC, E-LOC, I-LOC, <START>, <STOP>\n"
     ]
    },
    {
     "name": "stderr",
     "output_type": "stream",
     "text": [
      "Downloading https://raw.githubusercontent.com/stanfordnlp/stanza-resources/main/resources_1.5.0.json: 200kB [00:00, 6.94MB/s]                    \n",
      "2023-04-28 00:15:14 INFO: Downloading default packages for language: en (English) ...\n",
      "2023-04-28 00:15:17 INFO: File exists: C:\\Users\\Uporabnik\\stanza_resources\\en\\default.zip\n",
      "2023-04-28 00:15:23 INFO: Finished downloading models and saved to C:\\Users\\Uporabnik\\stanza_resources.\n",
      "2023-04-28 00:15:23 INFO: Checking for updates to resources.json in case models have been updated.  Note: this behavior can be turned off with download_method=None or download_method=DownloadMethod.REUSE_RESOURCES\n",
      "Downloading https://raw.githubusercontent.com/stanfordnlp/stanza-resources/main/resources_1.5.0.json: 200kB [00:00, 11.2MB/s]                    \n",
      "2023-04-28 00:15:27 INFO: Loading these models for language: en (English):\n",
      "============================\n",
      "| Processor    | Package   |\n",
      "----------------------------\n",
      "| tokenize     | combined  |\n",
      "| pos          | combined  |\n",
      "| lemma        | combined  |\n",
      "| constituency | wsj       |\n",
      "| depparse     | combined  |\n",
      "| sentiment    | sstplus   |\n",
      "| ner          | ontonotes |\n",
      "============================\n",
      "\n",
      "2023-04-28 00:15:27 INFO: Using device: cpu\n",
      "2023-04-28 00:15:27 INFO: Loading: tokenize\n",
      "2023-04-28 00:15:27 INFO: Loading: pos\n",
      "2023-04-28 00:15:27 INFO: Loading: lemma\n",
      "2023-04-28 00:15:27 INFO: Loading: constituency\n",
      "2023-04-28 00:15:28 INFO: Loading: depparse\n",
      "2023-04-28 00:15:28 INFO: Loading: sentiment\n",
      "2023-04-28 00:15:29 INFO: Loading: ner\n",
      "2023-04-28 00:15:30 INFO: Done loading processors!\n"
     ]
    },
    {
     "name": "stdout",
     "output_type": "stream",
     "text": [
      "Test all NERs with no CR\n"
     ]
    }
   ],
   "source": [
    "from helpers.functions import overall_scores\n",
    "\n",
    "flair = nf.FlairNer()\n",
    "spacy = nspcy.SpacyNer()\n",
    "stanza = ns.StanzaNer()\n",
    "\n",
    "print(\"Test all NERs with no CR\")\n",
    "print(overall_scores(flair = flair))\n",
    "print(overall_scores(spacy = spacy))\n",
    "print(overall_scores(stanza = stanza))\n",
    "\n",
    "print()\n",
    "print(\"Test all NERs with CR\")\n",
    "print(overall_scores(flair = flair, use_cr=True))\n",
    "print(overall_scores(spacy = spacy, use_cr=True))\n",
    "print(overall_scores(stanza = stanza, use_cr=True))"
   ]
  },
  {
   "cell_type": "code",
   "execution_count": null,
   "metadata": {},
   "outputs": [],
   "source": []
  }
 ],
 "metadata": {
  "kernelspec": {
   "display_name": "Python 3.10.9 64-bit",
   "language": "python",
   "name": "python3"
  },
  "language_info": {
   "codemirror_mode": {
    "name": "ipython",
    "version": 3
   },
   "file_extension": ".py",
   "mimetype": "text/x-python",
   "name": "python",
   "nbconvert_exporter": "python",
   "pygments_lexer": "ipython3",
   "version": "3.10.11"
  },
  "orig_nbformat": 4,
  "vscode": {
   "interpreter": {
    "hash": "b0fa6594d8f4cbf19f97940f81e996739fb7646882a419484c72d19e05852a7e"
   }
  }
 },
 "nbformat": 4,
 "nbformat_minor": 2
}
