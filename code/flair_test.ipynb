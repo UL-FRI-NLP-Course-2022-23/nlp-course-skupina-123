{
 "cells": [
  {
   "cell_type": "code",
   "execution_count": 1,
   "metadata": {},
   "outputs": [
    {
     "name": "stderr",
     "output_type": "stream",
     "text": [
      "/opt/homebrew/lib/python3.10/site-packages/tqdm/auto.py:21: TqdmWarning: IProgress not found. Please update jupyter and ipywidgets. See https://ipywidgets.readthedocs.io/en/stable/user_install.html\n",
      "  from .autonotebook import tqdm as notebook_tqdm\n",
      "Some weights of BertModel were not initialized from the model checkpoint at SpanBERT/spanbert-large-cased and are newly initialized: ['bert.pooler.dense.bias', 'bert.pooler.dense.weight']\n",
      "You should probably TRAIN this model on a down-stream task to be able to use it for predictions and inference.\n"
     ]
    }
   ],
   "source": [
    "# add your ners\n",
    "import ners.ner_flair as nf"
   ]
  },
  {
   "cell_type": "markdown",
   "metadata": {},
   "source": [
    "dodaš svojo ner, najbulš da nardiš razred (glej ner_flair.py)\n",
    "v overall_score vneseš kot argument svoj ner: overall_scores(stanza=<tvoja stanza>)"
   ]
  },
  {
   "cell_type": "code",
   "execution_count": 2,
   "metadata": {},
   "outputs": [
    {
     "name": "stdout",
     "output_type": "stream",
     "text": [
      "2023-04-26 21:57:57,640 SequenceTagger predicts: Dictionary with 20 tags: <unk>, O, S-ORG, S-MISC, B-PER, E-PER, S-LOC, B-ORG, E-ORG, I-PER, S-PER, B-MISC, I-MISC, E-MISC, I-ORG, B-LOC, E-LOC, I-LOC, <START>, <STOP>\n"
     ]
    },
    {
     "ename": "ZeroDivisionError",
     "evalue": "float division by zero",
     "output_type": "error",
     "traceback": [
      "\u001b[0;31m---------------------------------------------------------------------------\u001b[0m",
      "\u001b[0;31mZeroDivisionError\u001b[0m                         Traceback (most recent call last)",
      "Cell \u001b[0;32mIn[2], line 5\u001b[0m\n\u001b[1;32m      1\u001b[0m \u001b[38;5;28;01mfrom\u001b[39;00m \u001b[38;5;21;01mhelpers\u001b[39;00m\u001b[38;5;21;01m.\u001b[39;00m\u001b[38;5;21;01mfunctions\u001b[39;00m \u001b[38;5;28;01mimport\u001b[39;00m overall_scores\n\u001b[1;32m      3\u001b[0m flair \u001b[38;5;241m=\u001b[39m nf\u001b[38;5;241m.\u001b[39mFlairNer()\n\u001b[0;32m----> 5\u001b[0m \u001b[43moverall_scores\u001b[49m\u001b[43m(\u001b[49m\u001b[43mflair\u001b[49m\u001b[43m \u001b[49m\u001b[38;5;241;43m=\u001b[39;49m\u001b[43m \u001b[49m\u001b[43mflair\u001b[49m\u001b[43m)\u001b[49m\n",
      "File \u001b[0;32m~/Desktop/faks/nlp-course-skupina-123/code/helpers/functions.py:71\u001b[0m, in \u001b[0;36moverall_scores\u001b[0;34m(flair, stanza, spacy)\u001b[0m\n\u001b[1;32m     69\u001b[0m     p_scores\u001b[39m.\u001b[39mappend(percision_score(pred, characters))\n\u001b[1;32m     70\u001b[0m     r_scores\u001b[39m.\u001b[39mappend(recall_score(pred, characters))\n\u001b[0;32m---> 71\u001b[0m     f1_scores\u001b[39m.\u001b[39mappend(f1_score(pred, characters))\n\u001b[1;32m     73\u001b[0m \u001b[39mreturn\u001b[39;00m (\n\u001b[1;32m     74\u001b[0m     \u001b[39msum\u001b[39m(p_scores) \u001b[39m/\u001b[39m \u001b[39mlen\u001b[39m(p_scores),\n\u001b[1;32m     75\u001b[0m     \u001b[39msum\u001b[39m(r_scores) \u001b[39m/\u001b[39m \u001b[39mlen\u001b[39m(r_scores),\n\u001b[1;32m     76\u001b[0m     \u001b[39msum\u001b[39m(f1_scores) \u001b[39m/\u001b[39m \u001b[39mlen\u001b[39m(f1_scores),\n\u001b[1;32m     77\u001b[0m )\n",
      "File \u001b[0;32m~/Desktop/faks/nlp-course-skupina-123/code/helpers/functions.py:49\u001b[0m, in \u001b[0;36mf1_score\u001b[0;34m(list1, list2)\u001b[0m\n\u001b[1;32m     47\u001b[0m per \u001b[39m=\u001b[39m percision_score(list1, list2)\n\u001b[1;32m     48\u001b[0m recall \u001b[39m=\u001b[39m recall_score(list1, list2)\n\u001b[0;32m---> 49\u001b[0m \u001b[39mreturn\u001b[39;00m \u001b[39m2\u001b[39;49m \u001b[39m*\u001b[39;49m per \u001b[39m*\u001b[39;49m recall \u001b[39m/\u001b[39;49m (per \u001b[39m+\u001b[39;49m recall)\n",
      "\u001b[0;31mZeroDivisionError\u001b[0m: float division by zero"
     ]
    }
   ],
   "source": [
    "from helpers.functions import overall_scores\n",
    "\n",
    "flair = nf.FlairNer()\n",
    "\n",
    "overall_scores(flair = flair)\n",
    "\n",
    "\n"
   ]
  }
 ],
 "metadata": {
  "kernelspec": {
   "display_name": "Python 3.10.9 64-bit",
   "language": "python",
   "name": "python3"
  },
  "language_info": {
   "codemirror_mode": {
    "name": "ipython",
    "version": 3
   },
   "file_extension": ".py",
   "mimetype": "text/x-python",
   "name": "python",
   "nbconvert_exporter": "python",
   "pygments_lexer": "ipython3",
   "version": "3.10.9"
  },
  "orig_nbformat": 4,
  "vscode": {
   "interpreter": {
    "hash": "b0fa6594d8f4cbf19f97940f81e996739fb7646882a419484c72d19e05852a7e"
   }
  }
 },
 "nbformat": 4,
 "nbformat_minor": 2
}
