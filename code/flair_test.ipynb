{
 "cells": [
  {
   "cell_type": "code",
   "execution_count": 7,
   "metadata": {},
   "outputs": [
    {
     "ename": "ModuleNotFoundError",
     "evalue": "No module named 'helpers'",
     "output_type": "error",
     "traceback": [
      "\u001b[0;31m---------------------------------------------------------------------------\u001b[0m",
      "\u001b[0;31mModuleNotFoundError\u001b[0m                       Traceback (most recent call last)",
      "Cell \u001b[0;32mIn[7], line 6\u001b[0m\n\u001b[1;32m      4\u001b[0m \u001b[38;5;28;01mimport\u001b[39;00m \u001b[38;5;21;01mjson\u001b[39;00m\n\u001b[1;32m      5\u001b[0m \u001b[38;5;28;01mimport\u001b[39;00m \u001b[38;5;21;01mre\u001b[39;00m\n\u001b[0;32m----> 6\u001b[0m \u001b[38;5;28;01mimport\u001b[39;00m \u001b[38;5;21;01mhelpers\u001b[39;00m\u001b[38;5;21;01m.\u001b[39;00m\u001b[38;5;21;01mhelper_functions\u001b[39;00m\n",
      "\u001b[0;31mModuleNotFoundError\u001b[0m: No module named 'helpers'"
     ]
    }
   ],
   "source": [
    "from flair.data import Sentence\n",
    "from flair.nn import Classifier\n",
    "import os\n",
    "import json\n",
    "import re\n",
    "import helpers.helper_functions"
   ]
  },
  {
   "cell_type": "code",
   "execution_count": 7,
   "metadata": {},
   "outputs": [
    {
     "data": {
      "text/plain": [
       "['ner_flair.py',\n",
       " '__init__.py',\n",
       " 'ner_stanza.py',\n",
       " 'flair_test.ipynb',\n",
       " '.ipynb_checkpoints']"
      ]
     },
     "execution_count": 7,
     "metadata": {},
     "output_type": "execute_result"
    }
   ],
   "source": [
    "os.listdir()"
   ]
  },
  {
   "cell_type": "code",
   "execution_count": 37,
   "metadata": {},
   "outputs": [
    {
     "name": "stdout",
     "output_type": "stream",
     "text": [
      "Nace\n",
      "Jure\n",
      "Jernej\n"
     ]
    }
   ],
   "source": [
    "sentence_string = \"Nace, Jure and Jernej will join us today in Ljubljana or Logarska dolina.\"\n",
    "\n",
    "sentence = Sentence(sentence_string)\n",
    "tagger.predict(sentence)\n",
    "\n",
    "for entity in sentence.get_spans(\"ner\"):\n",
    "    if (entity.tag == \"PER\"):\n",
    "        print(entity.text)"
   ]
  },
  {
   "cell_type": "code",
   "execution_count": 39,
   "metadata": {},
   "outputs": [
    {
     "name": "stdout",
     "output_type": "stream",
     "text": [
      "2023-04-20 18:37:25,711 SequenceTagger predicts: Dictionary with 20 tags: <unk>, O, S-ORG, S-MISC, B-PER, E-PER, S-LOC, B-ORG, E-ORG, I-PER, S-PER, B-MISC, I-MISC, E-MISC, I-ORG, B-LOC, E-LOC, I-LOC, <START>, <STOP>\n"
     ]
    },
    {
     "data": {
      "text/plain": [
       "{'ILYA SERGEITCH PEPLOV',\n",
       " 'Kleopatra',\n",
       " 'Kleopatra Petrovna',\n",
       " 'Lazhetchnikov',\n",
       " 'Love',\n",
       " 'Natashenka',\n",
       " 'Nekrassov',\n",
       " 'Old Peplov',\n",
       " 'Peplov',\n",
       " 'Shchupkin'}"
      ]
     },
     "execution_count": 39,
     "metadata": {},
     "output_type": "execute_result"
    }
   ],
   "source": [
    "story_path = os.path.dirname(os.path.dirname(os.getcwd())) + \"/data/stories/002.txt\"\n",
    "story = open(story_path, \"r\").read()\n",
    "sentences = [s.strip() for s in re.split(r'(?<=[.?!])\\s+', story)]\n",
    "\n",
    "tagger = Classifier.load('ner')\n",
    "entities = list()\n",
    "for s in sentences:\n",
    "  sentence = Sentence(s)\n",
    "  tagger.predict(sentence)\n",
    "  for entity in sentence.get_spans(\"ner\"):\n",
    "    if (entity.tag == \"PER\"):\n",
    "        entities.append(entity.text)\n",
    "entities"
   ]
  },
  {
   "cell_type": "code",
   "execution_count": 22,
   "metadata": {},
   "outputs": [
    {
     "data": {
      "text/plain": [
       "'OME children were at play in their play-ground one\\nday, when a herald rode through the town, blowing a trumpet, and crying aloud, \"The King! the King passes by this road to-day. Make ready for the King!\"\\n\\nThe children stopped their play, and looked at one another.\\n\\n\"Did you hear that?\" they said. \"The King is coming. He may look over the wall and see our playground; who knows? We must put it in order.\"\\n\\nThe playground was sadly dirty, and in the corners were scraps of paper and broken toys, for these were careless children. But now, one brought a hoe, and another a rake, and a third ran to fetch the wheelbarrow from behind the garden gate. They labored hard, till at length all was clean and tidy.\\n\\n\"Now it is clean!\" they said; \"but we must make it pretty, too, for kings are used to fine things; maybe he would not notice mere cleanness, for he may have it all the time.\"\\n\\nThen one brought sweet rushes and strewed them on the ground; and others made garlands of oak leaves and pine tassels and hung them on the walls; and the littlest one pulled marigold buds and threw them all about the playground, \"to look like gold,\" he said.\\n\\nWhen all was done the playground was so beautiful that the children stood and looked at it, and clapped their hands with pleasure.\\n\\n\"Let us keep it always like this!\" said the littlest one; and the others cried, \"Yes! yes! that is what we will do.\"\\n\\nThey waited all day for the coming of the King, but he never came; only, towards sunset, a man with travel-worn clothes, and a kind, tired face passed along the road, and stopped to look over the wall.\\n\\n\"What a pleasant place!\" said the man. \"May I come in and rest, dear children?\"\\n\\nThe children brought him in gladly, and set him on the seat that they had made out of an old cask. They had covered it with the old red cloak to make it look like a throne, and it made a very good one.\\n\\n\"It is our playground!\" they said. \"We made it pretty for the King, but he did not come, and now we mean to keep it so for ourselves.\"\\n\\n\"That is good!\" said the man.\\n\\n\"Because we think pretty and clean is nicer than ugly and dirty!\" said another.\\n\\n\"That is better!\" said the man.\\n\\n\"And for tired people to rest in!\" said the littlest one.\\n\\n\"That is best of all!\" said the man.\\n\\nHe sat and rested, and looked at the children with such kind eyes that they came about him, and told him all they knew; about the five puppies in the barn, and the thrush’s nest with four blue eggs, and the shore where the gold shells grew; and the man nodded and understood all about it.\\n\\nBy and by he asked for a cup of water, and they brought it to him in the best cup, with the gold sprigs on it: then he[14] thanked the children, and rose and went on his way; but before he went he laid his hand on their heads for a moment, and the touch went warm to their hearts.\\n\\nThe children stood by the wall and watched the man as he went slowly along. The sun was setting, and the light fell in long slanting rays across the road.\\n\\n\"He looks so tired!\" said one of the children.\\n\\n\"But he was so kind!\" said another.\\n\\n\"See!\" said the littlest one. \"How the sun shines on his hair! it looks like a crown of gold.\"'"
      ]
     },
     "execution_count": 22,
     "metadata": {},
     "output_type": "execute_result"
    }
   ],
   "source": [
    "sentences = [s.strip() for s in re.split(r'(?<=[.?!])\\s+', story)]\n",
    "\n",
    "tagger = Classifier.load('ner')\n",
    "for s in sentences:\n",
    "  sentence = Sentence(s)\n",
    "  tagger.predict(sentence)\n",
    "  print(sentence)\n",
    "\n",
    "\n",
    "\n",
    "# annotation_path = \"nlp-course-skupina-123/data/annotations/\" + f + \".json\"\n",
    "# a = json.load(open(annotation_path, \"r\"))\n",
    "# a['characters']\n",
    "\n",
    "stories_path = \"nlp-course-skupina-123/data/stories\"\n",
    "annotations_path = \"nlp-course-skupina-123/data/annotations\"\n",
    "\n",
    "# Loop through all files in the folder\n",
    "for story_name in os.listdir(folder_path):\n",
    "    # Check if the file has a .txt extension\n",
    "    if story_name.endswith('.txt'):\n",
    "        # Construct the full file path by joining the folder path and file name\n",
    "        story_path = os.path.join(stories_path, story_name)\n",
    "        annotation_path = os.path.join(annotations_path, story_name.split(\".\")[0], \".json\")\n",
    "\n",
    "\n",
    "\n",
    "        story = open(story_path, \"r\").read()\n",
    "\n",
    "        annotation = json.load(open(annotation_path, \"r\"))"
   ]
  }
 ],
 "metadata": {
  "kernelspec": {
   "display_name": "Python 3.10.9 64-bit",
   "language": "python",
   "name": "python3"
  },
  "language_info": {
   "codemirror_mode": {
    "name": "ipython",
    "version": 3
   },
   "file_extension": ".py",
   "mimetype": "text/x-python",
   "name": "python",
   "nbconvert_exporter": "python",
   "pygments_lexer": "ipython3",
   "version": "3.10.9"
  },
  "orig_nbformat": 4,
  "vscode": {
   "interpreter": {
    "hash": "b0fa6594d8f4cbf19f97940f81e996739fb7646882a419484c72d19e05852a7e"
   }
  }
 },
 "nbformat": 4,
 "nbformat_minor": 2
}
