{
 "cells": [
  {
   "cell_type": "code",
   "execution_count": 3,
   "metadata": {
    "ExecuteTime": {
     "end_time": "2023-05-24T15:03:08.578239500Z",
     "start_time": "2023-05-24T15:03:07.908067800Z"
    },
    "collapsed": true
   },
   "outputs": [
    {
     "ename": "ImportError",
     "evalue": "cannot import name 'calculate_average' from 'helpers.functions' (/Users/nace.gorenc/Desktop/faks/nlp-course-skupina-123/code/helpers/functions.py)",
     "output_type": "error",
     "traceback": [
      "\u001b[0;31m---------------------------------------------------------------------------\u001b[0m",
      "\u001b[0;31mImportError\u001b[0m                               Traceback (most recent call last)",
      "Cell \u001b[0;32mIn[3], line 3\u001b[0m\n\u001b[1;32m      1\u001b[0m \u001b[38;5;28;01mfrom\u001b[39;00m \u001b[38;5;21;01mhelpers\u001b[39;00m\u001b[38;5;21;01m.\u001b[39;00m\u001b[38;5;21;01mfunctions\u001b[39;00m \u001b[38;5;28;01mimport\u001b[39;00m get_sentiment_from_file, get_file_names\n\u001b[1;32m      2\u001b[0m \u001b[38;5;28;01mfrom\u001b[39;00m \u001b[38;5;21;01msklearn\u001b[39;00m\u001b[38;5;21;01m.\u001b[39;00m\u001b[38;5;21;01mmetrics\u001b[39;00m \u001b[38;5;28;01mimport\u001b[39;00m  precision_score, recall_score, f1_score\n\u001b[0;32m----> 3\u001b[0m \u001b[38;5;28;01mfrom\u001b[39;00m \u001b[38;5;21;01mhelpers\u001b[39;00m\u001b[38;5;21;01m.\u001b[39;00m\u001b[38;5;21;01mfunctions\u001b[39;00m \u001b[38;5;28;01mimport\u001b[39;00m get_characters_from_file, get_sentiment_from_file, get_file_names, compare_lists, calculate_average\n",
      "\u001b[0;31mImportError\u001b[0m: cannot import name 'calculate_average' from 'helpers.functions' (/Users/nace.gorenc/Desktop/faks/nlp-course-skupina-123/code/helpers/functions.py)"
     ]
    }
   ],
   "source": [
    "from helpers.functions import get_sentiment_from_file, get_file_names\n",
    "from sklearn.metrics import  precision_score, recall_score, f1_score\n",
    "from helpers.functions import get_characters_from_file, get_sentiment_from_file, get_file_names, compare_lists, calculate_average\n"
   ]
  },
  {
   "cell_type": "code",
   "execution_count": 23,
   "metadata": {
    "ExecuteTime": {
     "end_time": "2023-05-24T15:34:03.988880400Z",
     "start_time": "2023-05-24T15:34:03.981875700Z"
    },
    "collapsed": false
   },
   "outputs": [
    {
     "name": "stdout",
     "output_type": "stream",
     "text": [
      "Precision: 1.0\n",
      "Recall: 1.0\n",
      "F1 Score: 1.0\n"
     ]
    }
   ],
   "source": [
    "files = get_file_names()\n",
    "\n",
    "sentiment_gt = get_sentiment_from_file(files[1])\n",
    "gt2 = {\n",
    "    'porfiry': {'misha': 1,'luise': 1, 'nafanail': 1},\n",
    "    'luise': {'misha': 1},\n",
    "    'misha': {'misha': 0, 'porfiry': -1, 'luise': 0, 'nafanail': 0},\n",
    "    'nafanail': {'misha': 1, 'luise': 0, 'porfiry': 0, 'nafanail': -1}\n",
    "}\n",
    "\n",
    "\n",
    "sentiment = {'misha': {'misha': 0, 'porfiry': 1, 'luise': 1, 'nafanail': 0},\n",
    " 'porfiry': {'misha': -1, 'porfiry': 0, 'luise': 1, 'nafanail': 1},\n",
    " 'luise': {'misha': 1, 'porfiry': 0, 'luise': 0, 'nafanail': 1},\n",
    " 'nafanail': {'misha': 1, 'porfiry': 0, 'luise': 0, 'nafanail': -1}}\n",
    "\n",
    "d2 = {\n",
    "    'nafanail': {'misha': 1, 'luise': 0, 'nafanail': -1, 'porfiry': 0},\n",
    "    'porfiry': {'luise': 1, 'misha': -1, 'porfiry': 0, 'nafanail': 1},\n",
    "    'luise': {'porfiry': 0, 'luise': 0, 'nafanail': 1, 'misha': 1},\n",
    "    'misha': {'misha': 0, 'luise': 1, 'porfiry': 1, 'nafanail': 0}\n",
    "}\n",
    "\n",
    "keys = set(sentiment_gt.keys()).union(gt2.keys())\n",
    "\n",
    "values1 = [sentiment_gt.get(key, {}).get(inner_key, 0) for key in keys for inner_key in keys]\n",
    "values2 = [gt2.get(key, {}).get(inner_key, 0) for key in keys for inner_key in keys]\n",
    "\n",
    "# Calculate precision, recall, and F1 score\n",
    "precision = precision_score(values1, values2, average='macro')\n",
    "recall = recall_score(values1, values2, average='macro')\n",
    "f1 = f1_score(values1, values2, average='macro')\n",
    "\n",
    "print(\"Precision:\", precision)\n",
    "print(\"Recall:\", recall)\n",
    "print(\"F1 Score:\", f1)\n",
    "\n"
   ]
  },
  {
   "cell_type": "code",
   "execution_count": 17,
   "metadata": {
    "ExecuteTime": {
     "end_time": "2023-05-24T15:15:25.151804Z",
     "start_time": "2023-05-24T15:15:25.145798900Z"
    },
    "collapsed": false
   },
   "outputs": [
    {
     "name": "stdout",
     "output_type": "stream",
     "text": [
      "[0, -1, 0, 0, 1, 0, 1, 1, 1, 0, 0, 0, 1, 0, 0, -1]\n",
      "[1, 0, 1, 1, 1, 0, 0, 0, 0, -1, 0, 0, 1, 0, 0, -1]\n"
     ]
    }
   ],
   "source": [
    "files = get_file_names()\n",
    "\n",
    "precisions = list()\n",
    "recalls = list()\n",
    "f1s = list()\n",
    "\n",
    "shorter_files = [s for s in files if not s.isdigit()]\n",
    "\n",
    "for f in shorter_files:\n",
    "    gt_characters = get_characters_from_file(f)\n",
    "    model_character = get_characters_from_file(f, False)\n",
    "\n",
    "    if compare_lists(gt_characters, model_character):\n",
    "        gt = get_sentiment_from_file(f)\n",
    "        results = get_sentiment_from_file(f, False)\n",
    "\n",
    "        keys = set(gt.keys()).union(results.keys())\n",
    "\n",
    "        values1 = [gt.get(key, {}).get(inner_key, 0) for key in keys for inner_key in keys]\n",
    "        values2 = [results.get(key, {}).get(inner_key, 0) for key in keys for inner_key in keys]\n",
    "        values2 = [round(num) for num in values2]\n",
    "\n",
    "        # Calculate precision, recall, and F1 score\n",
    "        precisions.append(precision_score(values1, values2, average='macro'))\n",
    "        recalls.append(recall_score(values1, values2, average='macro'))\n",
    "        f1s.append(f1_score(values1, values2, average='macro'))\n",
    "\n",
    "\n",
    "\n",
    "    \n",
    "\n",
    "\n",
    "\n"
   ]
  }
 ],
 "metadata": {
  "kernelspec": {
   "display_name": "Python 3.10.9 64-bit",
   "language": "python",
   "name": "python3"
  },
  "language_info": {
   "codemirror_mode": {
    "name": "ipython",
    "version": 3
   },
   "file_extension": ".py",
   "mimetype": "text/x-python",
   "name": "python",
   "nbconvert_exporter": "python",
   "pygments_lexer": "ipython3",
   "version": "3.10.9"
  },
  "vscode": {
   "interpreter": {
    "hash": "b0fa6594d8f4cbf19f97940f81e996739fb7646882a419484c72d19e05852a7e"
   }
  }
 },
 "nbformat": 4,
 "nbformat_minor": 0
}
