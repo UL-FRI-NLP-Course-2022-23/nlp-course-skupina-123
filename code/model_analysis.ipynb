{
 "cells": [
  {
   "cell_type": "code",
   "execution_count": 6,
   "metadata": {
    "collapsed": true,
    "ExecuteTime": {
     "end_time": "2023-05-24T15:03:08.578239500Z",
     "start_time": "2023-05-24T15:03:07.908067800Z"
    }
   },
   "outputs": [],
   "source": [
    "from helpers.functions import get_sentiment_from_file, get_file_names\n",
    "from sklearn.metrics import  precision_score, recall_score, f1_score"
   ]
  },
  {
   "cell_type": "code",
   "execution_count": 23,
   "outputs": [
    {
     "name": "stdout",
     "output_type": "stream",
     "text": [
      "Precision: 1.0\n",
      "Recall: 1.0\n",
      "F1 Score: 1.0\n"
     ]
    }
   ],
   "source": [
    "files = get_file_names()\n",
    "\n",
    "sentiment_gt = get_sentiment_from_file(files[1])\n",
    "gt2 = {\n",
    "    'porfiry': {'misha': 1,'luise': 1, 'nafanail': 1},\n",
    "    'luise': {'misha': 1},\n",
    "    'misha': {'misha': 0, 'porfiry': -1, 'luise': 0, 'nafanail': 0},\n",
    "    'nafanail': {'misha': 1, 'luise': 0, 'porfiry': 0, 'nafanail': -1}\n",
    "}\n",
    "\n",
    "\n",
    "sentiment = {'misha': {'misha': 0, 'porfiry': 1, 'luise': 1, 'nafanail': 0},\n",
    " 'porfiry': {'misha': -1, 'porfiry': 0, 'luise': 1, 'nafanail': 1},\n",
    " 'luise': {'misha': 1, 'porfiry': 0, 'luise': 0, 'nafanail': 1},\n",
    " 'nafanail': {'misha': 1, 'porfiry': 0, 'luise': 0, 'nafanail': -1}}\n",
    "\n",
    "d2 = {\n",
    "    'nafanail': {'misha': 1, 'luise': 0, 'nafanail': -1, 'porfiry': 0},\n",
    "    'porfiry': {'luise': 1, 'misha': -1, 'porfiry': 0, 'nafanail': 1},\n",
    "    'luise': {'porfiry': 0, 'luise': 0, 'nafanail': 1, 'misha': 1},\n",
    "    'misha': {'misha': 0, 'luise': 1, 'porfiry': 1, 'nafanail': 0}\n",
    "}\n",
    "\n",
    "keys = set(sentiment_gt.keys()).union(gt2.keys())\n",
    "\n",
    "values1 = [sentiment_gt.get(key, {}).get(inner_key, 0) for key in keys for inner_key in keys]\n",
    "values2 = [gt2.get(key, {}).get(inner_key, 0) for key in keys for inner_key in keys]\n",
    "\n",
    "# Calculate precision, recall, and F1 score\n",
    "precision = precision_score(values1, values2, average='macro')\n",
    "recall = recall_score(values1, values2, average='macro')\n",
    "f1 = f1_score(values1, values2, average='macro')\n",
    "\n",
    "print(\"Precision:\", precision)\n",
    "print(\"Recall:\", recall)\n",
    "print(\"F1 Score:\", f1)\n",
    "\n"
   ],
   "metadata": {
    "collapsed": false,
    "ExecuteTime": {
     "end_time": "2023-05-24T15:34:03.988880400Z",
     "start_time": "2023-05-24T15:34:03.981875700Z"
    }
   }
  },
  {
   "cell_type": "code",
   "execution_count": 17,
   "outputs": [
    {
     "name": "stdout",
     "output_type": "stream",
     "text": [
      "[0, -1, 0, 0, 1, 0, 1, 1, 1, 0, 0, 0, 1, 0, 0, -1]\n",
      "[1, 0, 1, 1, 1, 0, 0, 0, 0, -1, 0, 0, 1, 0, 0, -1]\n"
     ]
    }
   ],
   "source": [
    "print(values1)\n",
    "print(values2)\n"
   ],
   "metadata": {
    "collapsed": false,
    "ExecuteTime": {
     "end_time": "2023-05-24T15:15:25.151804Z",
     "start_time": "2023-05-24T15:15:25.145798900Z"
    }
   }
  }
 ],
 "metadata": {
  "kernelspec": {
   "display_name": "Python 3",
   "language": "python",
   "name": "python3"
  },
  "language_info": {
   "codemirror_mode": {
    "name": "ipython",
    "version": 2
   },
   "file_extension": ".py",
   "mimetype": "text/x-python",
   "name": "python",
   "nbconvert_exporter": "python",
   "pygments_lexer": "ipython2",
   "version": "2.7.6"
  }
 },
 "nbformat": 4,
 "nbformat_minor": 0
}
